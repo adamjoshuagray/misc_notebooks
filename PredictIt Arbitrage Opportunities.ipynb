{
 "cells": [
  {
   "cell_type": "markdown",
   "metadata": {},
   "source": [
    "PredictIt Arbitrage Opportunities\n",
    "===\n",
    "\n",
    "I put this sheet together to point out the Arbitrage opportunities on the PredictIt markets. It appears that it is often possible to cross the spread in a number of related contracts and lock in a guarneteed profit and this sheet demonstrates this."
   ]
  },
  {
   "cell_type": "code",
   "execution_count": 1,
   "metadata": {
    "collapsed": true
   },
   "outputs": [],
   "source": [
    "import predictitpy as pp\n",
    "import itertools"
   ]
  },
  {
   "cell_type": "markdown",
   "metadata": {},
   "source": [
    "__PredictItPy__\n",
    "\n",
    "Initializes a predictitpy client which will query the PredictIt market data API."
   ]
  },
  {
   "cell_type": "code",
   "execution_count": 2,
   "metadata": {
    "collapsed": true
   },
   "outputs": [],
   "source": [
    "pc = pp.Client()"
   ]
  },
  {
   "cell_type": "markdown",
   "metadata": {},
   "source": [
    "__Candidates__\n",
    "\n",
    "We need a list of candidates for each party."
   ]
  },
  {
   "cell_type": "code",
   "execution_count": 3,
   "metadata": {
    "collapsed": true
   },
   "outputs": [],
   "source": [
    "dem_candidates = ['SANDERS', 'CLINTON']\n",
    "gop_candidates = ['KASICH', 'CRUZ', 'TRUMP']"
   ]
  },
  {
   "cell_type": "markdown",
   "metadata": {},
   "source": [
    "__Primaries__\n",
    "\n",
    "We also need a list of primaries to look at. I have found arbitrate opportunities in some of these primaries, you may want to look at others though."
   ]
  },
  {
   "cell_type": "code",
   "execution_count": 4,
   "metadata": {
    "collapsed": true
   },
   "outputs": [],
   "source": [
    "primaries = [ 'NYPRMRY16', 'PAPRMRY16', 'MDPRMRY16', 'CTPRMRY16', 'RIPRMRY16' ]"
   ]
  },
  {
   "cell_type": "markdown",
   "metadata": {},
   "source": [
    "__Parties__\n",
    "\n",
    "We also need a listing of parites so we can easily construct market tickers."
   ]
  },
  {
   "cell_type": "code",
   "execution_count": 5,
   "metadata": {
    "collapsed": true
   },
   "outputs": [],
   "source": [
    "parties = ['GOP', 'DEM']"
   ]
  },
  {
   "cell_type": "markdown",
   "metadata": {},
   "source": [
    "__Market Tickers__\n",
    "\n",
    "This produces a list of tickers for each 'market' of related contracts (each primary)."
   ]
  },
  {
   "cell_type": "code",
   "execution_count": 6,
   "metadata": {
    "collapsed": true
   },
   "outputs": [],
   "source": [
    "market_tickers = ['%s.%s' % z for z in itertools.product(primaries, parties)]"
   ]
  },
  {
   "cell_type": "markdown",
   "metadata": {},
   "source": [
    "__Tickers__\n",
    "\n",
    "This creates a list of all the tickers of all the contracts that we wish to check."
   ]
  },
  {
   "cell_type": "code",
   "execution_count": 7,
   "metadata": {
    "collapsed": false
   },
   "outputs": [],
   "source": [
    "tickers = [ '%s.%s.GOP' % z for z in itertools.product(gop_candidates, primaries)] + \\\n",
    "    [ '%s.%s.DEM' % z for z in itertools.product(dem_candidates, primaries)] "
   ]
  },
  {
   "cell_type": "markdown",
   "metadata": {},
   "source": [
    "__Get Data__\n",
    "\n",
    "This actually gets the data for each ticker."
   ]
  },
  {
   "cell_type": "code",
   "execution_count": 8,
   "metadata": {
    "collapsed": false
   },
   "outputs": [],
   "source": [
    "data = map(pc.get_contract, tickers)"
   ]
  },
  {
   "cell_type": "markdown",
   "metadata": {},
   "source": [
    "__Finding Arbs__\n",
    "\n",
    "This function finds arb for a given market_ticker (primary) and the data.\n",
    "\n",
    "We consider something an arb if we can cross the spread to buy all the contracts in one market (primary) for less that 1. or cross the spread to sell all the contracts in one market (primary) for more than 1.\n",
    "\n",
    "This function returns a pair (type, profit) where type is one of 'sell', 'buy', 'both' or 'none', where 'buy' means we should buy all the contracts in a market (primary) and so on. profit is the maximum potential profit which can be extracted from the arb.\n",
    "\n",
    "If we consider tail risks of none of the listed candidates winning the primary, we would prefer 'sell' arbs to 'buy' arbs."
   ]
  },
  {
   "cell_type": "code",
   "execution_count": 9,
   "metadata": {
    "collapsed": false
   },
   "outputs": [],
   "source": [
    "def find_arb(market_ticker, data):\n",
    "    contracts = [d for d in data if market_ticker in d['TickerSymbol']]\n",
    "    buys = [b['BestBuyYesCost'] for b in contracts]\n",
    "    sells = [s['BestSellYesCost'] for s in contracts]\n",
    "    if sum(buys) < 1. and sum(sells) > 1.:\n",
    "        return ('both', max(1.-sum(buys), sum(sells)-1.))\n",
    "    elif sum(buys) < 1.:\n",
    "        return ('buy', 1.-sum(buys))\n",
    "    elif sum(sells) > 1.:\n",
    "        return ('sell', sum(sells) - 1.)\n",
    "    else:\n",
    "        return ('none', 0.)"
   ]
  },
  {
   "cell_type": "markdown",
   "metadata": {},
   "source": [
    "__Find Arbs__\n",
    "\n",
    "This produces a listing of arbitrage opportunities."
   ]
  },
  {
   "cell_type": "code",
   "execution_count": 11,
   "metadata": {
    "collapsed": false
   },
   "outputs": [
    {
     "data": {
      "text/plain": [
       "[('NYPRMRY16.GOP', ('none', 0.0)),\n",
       " ('NYPRMRY16.DEM', ('none', 0.0)),\n",
       " ('PAPRMRY16.GOP', ('sell', 0.030000000000000027)),\n",
       " ('PAPRMRY16.DEM', ('none', 0.0)),\n",
       " ('MDPRMRY16.GOP', ('none', 0.0)),\n",
       " ('MDPRMRY16.DEM', ('none', 0.0)),\n",
       " ('CTPRMRY16.GOP', ('none', 0.0)),\n",
       " ('CTPRMRY16.DEM', ('sell', 0.050000000000000044)),\n",
       " ('RIPRMRY16.GOP', ('sell', 0.020000000000000018)),\n",
       " ('RIPRMRY16.DEM', ('none', 0.0))]"
      ]
     },
     "execution_count": 11,
     "metadata": {},
     "output_type": "execute_result"
    }
   ],
   "source": [
    "[(mt, find_arb(mt, data)) for mt in market_tickers]"
   ]
  }
 ],
 "metadata": {
  "kernelspec": {
   "display_name": "Python 2",
   "language": "python",
   "name": "python2"
  },
  "language_info": {
   "codemirror_mode": {
    "name": "ipython",
    "version": 2
   },
   "file_extension": ".py",
   "mimetype": "text/x-python",
   "name": "python",
   "nbconvert_exporter": "python",
   "pygments_lexer": "ipython2",
   "version": "2.7.9"
  }
 },
 "nbformat": 4,
 "nbformat_minor": 0
}
